{
 "cells": [
  {
   "cell_type": "markdown",
   "id": "collectible-justice",
   "metadata": {},
   "source": [
    "### Simple one-way ANOVA test to analyse the relationship between the water level variability and peat type\n",
    "\n",
    "**Motivation for analysis**\n",
    "- Visually, there seems to be a strong correspondence between water level variation and peat vegetation type, with higher variation over palm swamp regions. \n",
    "\n",
    "**Inputs**\n",
    "- land type map \n",
    "- standard deviation of the final derived water level timeseries\n",
    "\n",
    "**Method**\n",
    "- Calculate water level standard deviation\n",
    "- Calculate one-way ANOVA (f-test) between the peat swamp type (hardwood/palm) and the water level variation\n",
    "\n"
   ]
  },
  {
   "cell_type": "code",
   "execution_count": 1,
   "id": "operational-execution",
   "metadata": {},
   "outputs": [
    {
     "data": {
      "text/plain": [
       "<xarray.core.options.set_options at 0x7fb651621a30>"
      ]
     },
     "execution_count": 1,
     "metadata": {},
     "output_type": "execute_result"
    }
   ],
   "source": [
    "from scipy import stats\n",
    "from scipy.stats import f_oneway\n",
    "from statsmodels.formula.api import ols\n",
    "from statsmodels.stats.anova import anova_lm\n",
    "import pandas as pd\n",
    "import xarray as xr\n",
    "import numpy as np\n",
    "xr.set_options(cmap_sequential='viridis')"
   ]
  },
  {
   "cell_type": "code",
   "execution_count": 2,
   "id": "thick-reading",
   "metadata": {},
   "outputs": [],
   "source": [
    "ALOS_OUT = 'filepath'"
   ]
  },
  {
   "cell_type": "code",
   "execution_count": 3,
   "id": "ready-campbell",
   "metadata": {},
   "outputs": [],
   "source": [
    "# Landtype map\n",
    "lt_map = xr.open_dataset(ALOS_OUT + 'landtype_100m.nc')\n",
    "lt_map = lt_map.where(lt_map.isin([4,5]))\n",
    "# water level daily timeseries\n",
    "wl_final = xr.open_dataset(ALOS_OUT + 'WL_daily_final.nc')\n",
    "\n",
    "# mean, min, max and stdev\n",
    "WL_mean = xr.open_dataset(ALOS_OUT + 'WL_mean.nc')\n",
    "WL_min = xr.open_dataset(ALOS_OUT + 'WL_min.nc')\n",
    "WL_max = xr.open_dataset(ALOS_OUT + 'WL_max.nc')\n",
    "WL_stdev = xr.open_dataset(ALOS_OUT + 'WL_stdev.nc')"
   ]
  },
  {
   "cell_type": "code",
   "execution_count": 6,
   "id": "blond-undergraduate",
   "metadata": {},
   "outputs": [],
   "source": [
    "# One way anova between the peat swamp type and the water level standard deviation\n",
    "def calculate_anova(lt_map,wl_stat, stat_name):\n",
    "    d1 = lt_map['type'].values\n",
    "    d2 = wl_stat['water_level'].values\n",
    "\n",
    "    # removing nan values\n",
    "    d1 = d1[~np.isnan(d1)]\n",
    "    d2 = d2[~np.isnan(d2)]\n",
    "    f_stat, pvalue = f_oneway(d1,d2)\n",
    "\n",
    "    print ('The one-way ANOVA outputs for ' + stat_name + ' are: ')\n",
    "    print ('f stat: ', str(f_stat))\n",
    "    print ('p value: ', str(pvalue))\n",
    "    \n",
    "    return (d2)\n",
    "\n"
   ]
  },
  {
   "cell_type": "code",
   "execution_count": 7,
   "id": "robust-wrist",
   "metadata": {},
   "outputs": [
    {
     "name": "stdout",
     "output_type": "stream",
     "text": [
      "The one-way ANOVA outputs for the standard deviation of the water level are: \n",
      "f stat:  52284.51333912362\n",
      "p value:  0.0\n",
      "8646611\n"
     ]
    }
   ],
   "source": [
    "d2 = calculate_anova(lt_map, WL_stdev, 'the standard deviation of the water level')\n",
    "print (len(d2))"
   ]
  },
  {
   "cell_type": "code",
   "execution_count": 8,
   "id": "foreign-usage",
   "metadata": {},
   "outputs": [
    {
     "data": {
      "text/plain": [
       "array([4.76587954, 7.95832095, 5.12864247, ..., 3.76799344, 4.95910528,\n",
       "       6.9644831 ])"
      ]
     },
     "execution_count": 8,
     "metadata": {},
     "output_type": "execute_result"
    }
   ],
   "source": [
    "d2"
   ]
  },
  {
   "cell_type": "code",
   "execution_count": 9,
   "id": "stunning-lambda",
   "metadata": {},
   "outputs": [
    {
     "name": "stdout",
     "output_type": "stream",
     "text": [
      "The one-way ANOVA outputs for the mean water level are: \n",
      "f stat:  91620.45040894908\n",
      "p value:  0.0\n"
     ]
    },
    {
     "data": {
      "text/plain": [
       "array([ 0.78489061,  5.68351625, -0.26425023, ...,  3.58119379,\n",
       "       -0.73116236,  5.39631525])"
      ]
     },
     "execution_count": 9,
     "metadata": {},
     "output_type": "execute_result"
    }
   ],
   "source": [
    "calculate_anova(lt_map, WL_mean, 'the mean water level')"
   ]
  },
  {
   "cell_type": "code",
   "execution_count": 10,
   "id": "vocational-pillow",
   "metadata": {},
   "outputs": [
    {
     "name": "stdout",
     "output_type": "stream",
     "text": [
      "The one-way ANOVA outputs for the min water level are: \n",
      "f stat:  51443043.22214476\n",
      "p value:  0.0\n"
     ]
    },
    {
     "data": {
      "text/plain": [
       "array([ -7.83417105,  -7.00494687, -10.3283852 , ...,  -4.37110852,\n",
       "       -13.27824619,  -8.0539838 ])"
      ]
     },
     "execution_count": 10,
     "metadata": {},
     "output_type": "execute_result"
    }
   ],
   "source": [
    "calculate_anova(lt_map, WL_min, 'the min water level')"
   ]
  },
  {
   "cell_type": "code",
   "execution_count": 11,
   "id": "surface-traffic",
   "metadata": {},
   "outputs": [
    {
     "name": "stdout",
     "output_type": "stream",
     "text": [
      "The one-way ANOVA outputs for the max water level are: \n",
      "f stat:  21131989.584988564\n",
      "p value:  0.0\n"
     ]
    },
    {
     "data": {
      "text/plain": [
       "array([19.30696636, 30.94396974, 10.46517399, ..., 15.17239394,\n",
       "       12.54865373, 29.65567032])"
      ]
     },
     "execution_count": 11,
     "metadata": {},
     "output_type": "execute_result"
    }
   ],
   "source": [
    "calculate_anova(lt_map, WL_max, 'the max water level')"
   ]
  },
  {
   "cell_type": "markdown",
   "id": "gross-donna",
   "metadata": {},
   "source": [
    "#### testing the eta statistic \n",
    "- eta calculates the effect size of the one way anova test (or eta squared, like R squared) - it measures the proportion of the total variance explained by the independent variable\n",
    "- eta squared is sensitive to sample size\n",
    "- larger the sample size, the larger the effect size\n",
    "- important to mention the effect size and sample size together"
   ]
  },
  {
   "cell_type": "code",
   "execution_count": null,
   "id": "sixth-exception",
   "metadata": {},
   "outputs": [],
   "source": [
    "%%time\n",
    "\n",
    "# merging the land type and stdev arrays\n",
    "ds_merged = xr.merge([lt_map['type'],WL_stdev['water_level']])\n",
    "df = ds_merged.to_dataframe()\n"
   ]
  },
  {
   "cell_type": "code",
   "execution_count": 52,
   "id": "impaired-necklace",
   "metadata": {},
   "outputs": [
    {
     "data": {
      "text/html": [
       "<div>\n",
       "<style scoped>\n",
       "    .dataframe tbody tr th:only-of-type {\n",
       "        vertical-align: middle;\n",
       "    }\n",
       "\n",
       "    .dataframe tbody tr th {\n",
       "        vertical-align: top;\n",
       "    }\n",
       "\n",
       "    .dataframe thead th {\n",
       "        text-align: right;\n",
       "    }\n",
       "</style>\n",
       "<table border=\"1\" class=\"dataframe\">\n",
       "  <thead>\n",
       "    <tr style=\"text-align: right;\">\n",
       "      <th></th>\n",
       "      <th>sum_sq</th>\n",
       "      <th>df</th>\n",
       "      <th>F</th>\n",
       "      <th>PR(&gt;F)</th>\n",
       "    </tr>\n",
       "  </thead>\n",
       "  <tbody>\n",
       "    <tr>\n",
       "      <th>C(type)</th>\n",
       "      <td>3.828724e+06</td>\n",
       "      <td>1.0</td>\n",
       "      <td>898284.884846</td>\n",
       "      <td>0.0</td>\n",
       "    </tr>\n",
       "    <tr>\n",
       "      <th>Residual</th>\n",
       "      <td>3.685410e+07</td>\n",
       "      <td>8646609.0</td>\n",
       "      <td>NaN</td>\n",
       "      <td>NaN</td>\n",
       "    </tr>\n",
       "  </tbody>\n",
       "</table>\n",
       "</div>"
      ],
      "text/plain": [
       "                sum_sq         df              F  PR(>F)\n",
       "C(type)   3.828724e+06        1.0  898284.884846     0.0\n",
       "Residual  3.685410e+07  8646609.0            NaN     NaN"
      ]
     },
     "execution_count": 52,
     "metadata": {},
     "output_type": "execute_result"
    }
   ],
   "source": [
    "aov_table"
   ]
  },
  {
   "cell_type": "code",
   "execution_count": 12,
   "id": "informed-jesus",
   "metadata": {},
   "outputs": [
    {
     "name": "stdout",
     "output_type": "stream",
     "text": [
      "                sum_sq         df              F  PR(>F)\n",
      "C(type)   3.828724e+06        1.0  898284.884846     0.0\n",
      "Residual  3.685410e+07  8646609.0            NaN     NaN\n",
      "Eta squared: 0.09411156328014522\n",
      "Eta squared partial: 0.09411155921722641\n",
      "CPU times: user 1min 8s, sys: 14.7 s, total: 1min 23s\n",
      "Wall time: 1min 4s\n"
     ]
    }
   ],
   "source": [
    "%%time\n",
    "\n",
    "# merging the land type and stdev arrays\n",
    "ds_merged = xr.merge([lt_map['type'],WL_stdev['water_level']])\n",
    "df = ds_merged.to_dataframe()\n",
    "\n",
    "model = ols('water_level ~ C(type)', data = df).fit()\n",
    "\n",
    "# anova test\n",
    "aov_table = anova_lm(model, typ=2)\n",
    "\n",
    "# effect size\n",
    "# sum of squares between the groups\n",
    "SSbetween = aov_table.loc['C(type)','sum_sq']\n",
    "df_between = aov_table.loc['C(type)','df']\n",
    "\n",
    "# sum of squares within the groups\n",
    "SSwithin = aov_table.loc['Residual','sum_sq']\n",
    "df_within = aov_table.loc['Residual','df']\n",
    "\n",
    "eta_squared = SSbetween / (SSbetween + SSwithin)\n",
    "eta_squared2 = 3828724/(3828724+36854100)\n",
    "print (aov_table)\n",
    "print ('Eta squared: ' + str(eta_squared))\n",
    "print ('Eta squared partial: ' + str(eta_squared2))"
   ]
  },
  {
   "cell_type": "code",
   "execution_count": null,
   "id": "returning-reduction",
   "metadata": {},
   "outputs": [],
   "source": []
  },
  {
   "cell_type": "markdown",
   "id": "liable-poland",
   "metadata": {},
   "source": [
    "**About 9.4% of the variance in peat swamp type is due to the water level variance (pvalue<<0.05)**"
   ]
  },
  {
   "cell_type": "code",
   "execution_count": 66,
   "id": "unnecessary-collect",
   "metadata": {},
   "outputs": [
    {
     "name": "stdout",
     "output_type": "stream",
     "text": [
      "                sum_sq         df            F  PR(>F)\n",
      "C(type)   6.122928e+04        1.0  2687.934014     0.0\n",
      "Residual  1.969638e+08  8646609.0          NaN     NaN\n",
      "\n",
      "Eta squared: 0.00031076907578721257\n",
      "CPU times: user 1min 7s, sys: 20.6 s, total: 1min 28s\n",
      "Wall time: 1min 3s\n"
     ]
    }
   ],
   "source": [
    "%%time\n",
    "\n",
    "# merging the land type and stdev arrays\n",
    "ds_merged = xr.merge([lt_map['type'],WL_min['water_level']])\n",
    "df = ds_merged.to_dataframe()\n",
    "\n",
    "model = ols('water_level ~ C(type)', data = df).fit()\n",
    "\n",
    "# anova test\n",
    "aov_table = anova_lm(model, typ=2)\n",
    "\n",
    "# effect size\n",
    "# sum of squares between the groups\n",
    "SSbetween = aov_table.loc['C(type)','sum_sq']\n",
    "df_between = aov_table.loc['C(type)','df']\n",
    "\n",
    "# sum of squares within the groups\n",
    "SSwithin = aov_table.loc['Residual','sum_sq']\n",
    "df_within = aov_table.loc['Residual','df']\n",
    "\n",
    "eta_squared = SSbetween / (SSbetween + SSwithin)\n",
    "\n",
    "print (aov_table)\n",
    "print ('\\nEta squared: ' + str(eta_squared))"
   ]
  },
  {
   "cell_type": "markdown",
   "id": "hearing-judge",
   "metadata": {},
   "source": [
    "**None of the variance in peat swamp type is related to the minimum water level**"
   ]
  },
  {
   "cell_type": "code",
   "execution_count": 91,
   "id": "logical-rider",
   "metadata": {},
   "outputs": [
    {
     "name": "stdout",
     "output_type": "stream",
     "text": [
      "                sum_sq         df             F  PR(>F)\n",
      "C(type)   8.134953e+07        1.0  1.230110e+06     0.0\n",
      "Residual  5.718170e+08  8646609.0           NaN     NaN\n",
      "\n",
      "Eta squared: 0.12454639155426386\n",
      "CPU times: user 1min 5s, sys: 16.6 s, total: 1min 22s\n",
      "Wall time: 1min 1s\n"
     ]
    }
   ],
   "source": [
    "%%time\n",
    "\n",
    "# merging the land type and stdev arrays\n",
    "ds_merged = xr.merge([lt_map['type'],WL_max['water_level']])\n",
    "df = ds_merged.to_dataframe()\n",
    "\n",
    "model = ols('water_level ~ C(type)', data = df).fit()\n",
    "\n",
    "# anova test\n",
    "aov_table = anova_lm(model, typ=2)\n",
    "\n",
    "# effect size\n",
    "# sum of squares between the groups\n",
    "SSbetween = aov_table.loc['C(type)','sum_sq']\n",
    "df_between = aov_table.loc['C(type)','df']\n",
    "\n",
    "# sum of squares within the groups\n",
    "SSwithin = aov_table.loc['Residual','sum_sq']\n",
    "df_within = aov_table.loc['Residual','df']\n",
    "\n",
    "eta_squared = SSbetween / (SSbetween + SSwithin)\n",
    "\n",
    "\n",
    "print (aov_table)\n",
    "print ('\\nEta squared: ' + str(eta_squared))"
   ]
  },
  {
   "cell_type": "markdown",
   "id": "colonial-decade",
   "metadata": {},
   "source": [
    "**About 12.5% of the variance in peat swamp type is due to the max water level (pvalue<<0.05)**"
   ]
  },
  {
   "cell_type": "code",
   "execution_count": 64,
   "id": "detailed-recognition",
   "metadata": {},
   "outputs": [
    {
     "name": "stdout",
     "output_type": "stream",
     "text": [
      "                sum_sq         df              F  PR(>F)\n",
      "C(type)   1.554615e+07        1.0  898409.935041     0.0\n",
      "Residual  1.496215e+08  8646609.0            NaN     NaN\n",
      "\n",
      "Eta squared: 0.09412343141012111\n",
      "CPU times: user 1min 6s, sys: 20.6 s, total: 1min 27s\n",
      "Wall time: 1min 2s\n"
     ]
    }
   ],
   "source": [
    "%%time\n",
    "\n",
    "# merging the land type and stdev arrays\n",
    "ds_merged = xr.merge([lt_map['type'],WL_mean['water_level']])\n",
    "df = ds_merged.to_dataframe()\n",
    "\n",
    "model = ols('water_level ~ C(type)', data = df).fit()\n",
    "\n",
    "# anova test\n",
    "aov_table = anova_lm(model, typ=2)\n",
    "\n",
    "# effect size\n",
    "# sum of squares between the groups\n",
    "SSbetween = aov_table.loc['C(type)','sum_sq']\n",
    "df_between = aov_table.loc['C(type)','df']\n",
    "\n",
    "# sum of squares within the groups\n",
    "SSwithin = aov_table.loc['Residual','sum_sq']\n",
    "df_within = aov_table.loc['Residual','df']\n",
    "\n",
    "eta_squared = SSbetween / (SSbetween + SSwithin)\n",
    "print (aov_table)\n",
    "print ('\\nEta squared: ' + str(eta_squared))"
   ]
  },
  {
   "cell_type": "markdown",
   "id": "instrumental-composite",
   "metadata": {},
   "source": [
    "**About 9.4% of the variance in peat swamp type is due to the mean water level (pvalue<<0.05)**"
   ]
  },
  {
   "cell_type": "markdown",
   "id": "infectious-woman",
   "metadata": {},
   "source": [
    "#### Mean value of max, mean and stdev for each peat swamp type"
   ]
  },
  {
   "cell_type": "code",
   "execution_count": 89,
   "id": "prescribed-personality",
   "metadata": {},
   "outputs": [],
   "source": [
    "def calculate_mean_values(ds, variable_name):\n",
    "    print ('Palm swamp ' + variable_name + str(np.round(ds.where(lt_map['type']==4)['water_level'].mean().values,2)) + ' cm')\n",
    "    print ('Hardwood swamp ' + variable_name + str(np.round(ds.where(lt_map['type']==5)['water_level'].mean().values,2)) + ' cm')\n",
    "                                                          "
   ]
  },
  {
   "cell_type": "code",
   "execution_count": 90,
   "id": "premium-element",
   "metadata": {},
   "outputs": [
    {
     "name": "stdout",
     "output_type": "stream",
     "text": [
      "Palm swamp standard deviation: 5.86 cm\n",
      "Hardwood swamp standard deviation: 4.41 cm\n",
      "Palm swamp min: -5.72 cm\n",
      "Hardwood swamp min: -5.91 cm\n",
      "Palm swamp max: 21.6 cm\n",
      "Hardwood swamp max: 14.93 cm\n",
      "Palm swamp mean: 6.32 cm\n",
      "Hardwood swamp mean: 3.4 cm\n"
     ]
    }
   ],
   "source": [
    "calculate_mean_values(WL_stdev,'standard deviation: ')\n",
    "calculate_mean_values(WL_min,'min: ')\n",
    "calculate_mean_values(WL_max,'max: ')\n",
    "calculate_mean_values(WL_mean,'mean: ')"
   ]
  },
  {
   "cell_type": "code",
   "execution_count": null,
   "id": "facial-stress",
   "metadata": {},
   "outputs": [],
   "source": [
    "### The minimum value might not be of much significance here because the rainfall was significantly higher during this period than usual. It would be interesting to investigate if minimum water level becomes significant "
   ]
  }
 ],
 "metadata": {
  "kernelspec": {
   "display_name": "congo3",
   "language": "python",
   "name": "congo3"
  },
  "language_info": {
   "codemirror_mode": {
    "name": "ipython",
    "version": 3
   },
   "file_extension": ".py",
   "mimetype": "text/x-python",
   "name": "python",
   "nbconvert_exporter": "python",
   "pygments_lexer": "ipython3",
   "version": "3.8.5"
  }
 },
 "nbformat": 4,
 "nbformat_minor": 5
}
