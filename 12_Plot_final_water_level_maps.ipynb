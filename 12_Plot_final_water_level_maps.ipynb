{
 "cells": [
  {
   "cell_type": "markdown",
   "id": "defined-creation",
   "metadata": {},
   "source": [
    "## Plot the final water level maps\n",
    "\n",
    "**Previous code:**\n",
    "create_final_water_level_maps.ipynb\n",
    "\n",
    "**Aim:**\n",
    "Output statistical maps of the derived water level maps\n",
    "- min, max, mean, stdev monthly maps (for supplementary paper)\n",
    "- min, max, mean, stdev across all timesteps (main paper)\n",
    "- number of days with water level above ground level\n",
    "\n",
    "\n",
    "**Inputs**\n",
    "- final water level map\n",
    "\n",
    "**Outputs**\n",
    "- Figures from the paper: 10, 11, 12\n",
    "\n",
    "**Next**\n",
    "- Final validation with altimetry data\n",
    "\n",
    "**Notes**\n",
    "- The final criteria used for applying the rainfed interpolation is: pixel-wise pvalue < 0.15\n",
    "- Otherwise, the linear interpolation is used. \n",
    "- This covers the flood bank regions, and regions where there are negative pixel wise correlations. \n",
    "- About 10% of the region has little (<0.1) to no correlation (<=0) with the net water input.\n",
    "- About 75% of pixels are to some degree (correlation >0.3) rainfed\n"
   ]
  },
  {
   "cell_type": "code",
   "execution_count": null,
   "id": "legislative-cookie",
   "metadata": {},
   "outputs": [],
   "source": [
    "import sys\n",
    "import pandas as pd\n",
    "import xarray as xr\n",
    "import numpy as np\n",
    "xr.set_options(cmap_sequential='jet')\n",
    "import matplotlib.pyplot as plt\n",
    "import warnings\n",
    "import netCDF4\n",
    "import datetime\n",
    "import plotly\n",
    "import plotly.express as px\n",
    "import plotly.graph_objects as go\n",
    "from affine import Affine\n",
    "import cartopy.crs as ccrs\n",
    "import nco\n",
    "import xesmf as xe\n",
    "from calendar import monthrange\n",
    "import pickle as pkl\n",
    "from datetime import date, datetime, timedelta\n",
    "import math\n",
    "import seaborn as sns\n",
    "from scipy import stats\n",
    "from IPython.display import display\n",
    "\n",
    "plt.rcParams['figure.dpi'] = 700\n",
    "\n",
    "%xmode Minimal"
   ]
  },
  {
   "cell_type": "code",
   "execution_count": null,
   "id": "40bd5a48-af14-4303-9c3a-479c19a33fa5",
   "metadata": {},
   "outputs": [],
   "source": [
    "### Declare data and output directories here: \n",
    "#ALOS_OUT = \n",
    "#images = "
   ]
  },
  {
   "cell_type": "code",
   "execution_count": null,
   "id": "signal-cream",
   "metadata": {},
   "outputs": [],
   "source": [
    "## Water level datasets\n",
    "\n",
    "# rainfed\n",
    "ds_r = xr.open_dataset(ALOS_OUT + 'HH_modelled_water_level_ts.nc')\n",
    "\n",
    "# linear\n",
    "ds_l = xr.open_dataset(ALOS_OUT + 'HH_linear_water_level_ts.nc')\n",
    "\n",
    "# final water level\n",
    "wl_final = xr.open_dataset(ALOS_OUT + 'WL_daily_final.nc')\n",
    "\n",
    "# land type map\n",
    "lt_map = xr.open_dataset(ALOS_OUT + 'landtype_100m.nc')\n",
    "\n",
    "# pixel wise correlation slope data\n",
    "pw_slopes = xr.open_dataset(ALOS_OUT + 'slopes_da_HH_new.nc')\n",
    "test = pw_slopes.to_array().to_dataset(name='slope')\n",
    "pw_slopes = test['slope'][0][0].to_dataset(name='slope')\n",
    "pw_slopes = pw_slopes.where(lt_map['type'].isin([4,5]))\n",
    "pw_slopes = pw_slopes.drop('variable')\n",
    "\n",
    "# 2. correlations\n",
    "pw_corrs = xr.open_dataset(ALOS_OUT + 'corrs_da_HH_new.nc')\n",
    "test = pw_corrs.to_array().to_dataset(name='correlation')\n",
    "pw_corrs = test['correlation'][0][0].to_dataset(name='correlation')\n",
    "pw_corrs = pw_corrs.where(lt_map['type'].isin([4,5]))\n",
    "pw_corrs = pw_corrs.drop('variable')\n",
    "\n",
    "# 3. p-values\n",
    "pw_pvals = xr.open_dataset(ALOS_OUT + 'pvals_da_HH_new.nc')\n",
    "test = pw_pvals.to_array().to_dataset(name='pvalue')\n",
    "pw_pvals = test['pvalue'][0][0].to_dataset(name='pvalue')\n",
    "pw_pvals = pw_pvals.where(lt_map['type'].isin([4,5]))\n",
    "pw_pvals = pw_pvals.drop('variable')\n",
    "\n",
    "# 4. standard errors\n",
    "pw_stderrs = xr.open_dataset(ALOS_OUT + 'stderrs_da_HH_new.nc')\n",
    "test = pw_stderrs.to_array().to_dataset(name='stderr')\n",
    "pw_stderrs = test['stderr'][0][0].to_dataset(name='stderr')\n",
    "pw_stderrs = pw_stderrs.where(lt_map['type'].isin([4,5]))\n",
    "pw_stderrs = pw_stderrs.drop('variable')\n",
    "\n",
    "# original radar data\n",
    "HH_db_100m = xr.open_dataset(ALOS_OUT + 'HH_db_100m_area2.nc')"
   ]
  },
  {
   "cell_type": "markdown",
   "id": "8a000c9e-acff-4b21-a375-fb2a2f0ea6e5",
   "metadata": {},
   "source": [
    "### Function declarations"
   ]
  },
  {
   "cell_type": "code",
   "execution_count": null,
   "id": "attempted-combat",
   "metadata": {},
   "outputs": [],
   "source": [
    "import matplotlib.colors as mcolors\n",
    "from matplotlib.colors import Normalize\n",
    "import matplotlib as mpl\n",
    "#from matplotlib.colors import MidpointNormalize\n",
    "\n",
    "def plot_maps(ds, var_name, vmin, vmax):\n",
    "    #mid = -vmin/(vmax - vmin)\n",
    "    # Define the colours for the colourmap\n",
    "    #colours = [(0, 'red'), (mid, 'white'), (1, 'blue')]\n",
    "    \n",
    "    #midnorm = MidpointNormalize(midpoint=0, vmin=vmin, vmax=vmax)\n",
    "    \n",
    "    #cmap = mpl.colormaps['RdBu']\n",
    "    midpoint = 1 - vmax / (vmax + abs(vmin))\n",
    "    print (midpoint)\n",
    "    start = 0.12\n",
    "    cmap_new = shiftedColorMap(matplotlib.cm.RdBu, start=start, midpoint= midpoint, stop=1, name='shiftedcmap')\n",
    "    \n",
    "    #sns.set(font_scale=1.2, rc={'axes.facecolor':'#D1D3D4'}, style='ticks')\n",
    "    sns.set(font_scale=1.3, rc={'axes.facecolor':'white'}, style='ticks')\n",
    "\n",
    "\n",
    "\n",
    "    #cmap = mcolors.LinearSegmentedColormap.from_list('custom_cmap', colours, N=256)\n",
    "\n",
    "    # register the colourmap\n",
    "    #plt.register_cmap(cmap=cmap)\n",
    "    \n",
    "    # formatting the time for better subplot titles\n",
    "    time_formatted = ds['time'].dt.strftime('%b %Y')\n",
    "    \n",
    "    #fig, ax = plt.subplots(subplot_kw={'title':time_formatted})\n",
    "    \n",
    "    fig, ax = plt.subplots(nrows=4, ncols=5, figsize = (18,16))\n",
    "    ax = ax.ravel()\n",
    "\n",
    "    # adding more space between rows\n",
    "    plt.subplots_adjust(hspace=0.5)\n",
    "    #plt.title('Maximum monthly water level (cm)')\n",
    "    \n",
    "    for i, subplot in enumerate(ax):\n",
    "        ds[var_name].isel(time=i).plot(x='lon',y='lat',ax=subplot,vmin=vmin,vmax=vmax, \\\n",
    "                                                  cmap=cmap_new, add_colorbar=False)\n",
    "        subplot.set_xlabel('')\n",
    "        subplot.set_ylabel('')\n",
    "        subplot.set_title(time_formatted.isel(time=i).item())\n",
    "    \n",
    "    cax = fig.add_axes([0.92, 0.1, 0.02, 0.8])\n",
    "    #plt.title('test')\n",
    "    # normalising the colourbar so that the white value is at 0 water level\n",
    "    norm = Normalize(vmin=vmin, vmax=vmax)\n",
    "    print (norm)\n",
    "    cbar = plt.colorbar(subplot.collections[0], cax=cax)\n",
    "    cbar.set_label(var_name, size=18)\n",
    "        #if (i+1) % 5 == 0:\n",
    "        #    cbar = plt.colorbar(subplot.collections[0], ax=ax, shrink=1)\n",
    "    \n",
    "    # original version that didn't use subplots, but the layout wasn't as good\n",
    "    #ds[var_name][:,::5,::5].plot(x='lon',y='lat',col='time',col_wrap=5,\\\n",
    "    #                                  vmin=vmin,vmax=vmax, ax=ax, cmap='custom_cmap', )\n"
   ]
  },
  {
   "cell_type": "code",
   "execution_count": null,
   "id": "opposite-hearing",
   "metadata": {},
   "outputs": [],
   "source": [
    "import numpy as np\n",
    "import matplotlib\n",
    "import matplotlib.pyplot as plt\n",
    "from mpl_toolkits.axes_grid1 import AxesGrid\n",
    "\n",
    "def shiftedColorMap(cmap, start=0, midpoint=0.5, stop=1.0, name='shiftedcmap'):\n",
    "    #### This function was copied from: https://stackoverflow.com/questions/7404116/defining-the-midpoint-of-a-colormap-in-matplotlib\n",
    "    '''\n",
    "    Function to offset the \"center\" of a colormap. Useful for\n",
    "    data with a negative min and positive max and you want the\n",
    "    middle of the colormap's dynamic range to be at zero.\n",
    "\n",
    "    Input\n",
    "    -----\n",
    "      cmap : The matplotlib colormap to be altered\n",
    "      start : Offset from lowest point in the colormap's range.\n",
    "          Defaults to 0.0 (no lower offset). Should be between\n",
    "          0.0 and `midpoint`.\n",
    "      midpoint : The new center of the colormap. Defaults to \n",
    "          0.5 (no shift). Should be between 0.0 and 1.0. In\n",
    "          general, this should be  1 - vmax / (vmax + abs(vmin))\n",
    "          For example if your data range from -15.0 to +5.0 and\n",
    "          you want the center of the colormap at 0.0, `midpoint`\n",
    "          should be set to  1 - 5/(5 + 15)) or 0.75\n",
    "      stop : Offset from highest point in the colormap's range.\n",
    "          Defaults to 1.0 (no upper offset). Should be between\n",
    "          `midpoint` and 1.0.\n",
    "    '''\n",
    "    cdict = {\n",
    "        'red': [],\n",
    "        'green': [],\n",
    "        'blue': [],\n",
    "        'alpha': []\n",
    "    }\n",
    "\n",
    "    # regular index to compute the colors\n",
    "    reg_index = np.linspace(start, stop, 257)\n",
    "\n",
    "    # shifted index to match the data\n",
    "    shift_index = np.hstack([\n",
    "        np.linspace(0.0, midpoint, 128, endpoint=False), \n",
    "        np.linspace(midpoint, 1.0, 129, endpoint=True)\n",
    "    ])\n",
    "\n",
    "    for ri, si in zip(reg_index, shift_index):\n",
    "        r, g, b, a = cmap(ri)\n",
    "\n",
    "        cdict['red'].append((si, r, r))\n",
    "        cdict['green'].append((si, g, g))\n",
    "        cdict['blue'].append((si, b, b))\n",
    "        cdict['alpha'].append((si, a, a))\n",
    "\n",
    "    newcmap = matplotlib.colors.LinearSegmentedColormap(name, cdict)\n",
    "    plt.register_cmap(cmap=newcmap)\n",
    "\n",
    "    return newcmap"
   ]
  },
  {
   "cell_type": "code",
   "execution_count": null,
   "id": "identified-preserve",
   "metadata": {},
   "outputs": [],
   "source": [
    "def plot_maps_overall(ds, var_name, vmin, vmax, cmap):\n",
    "    # plotting the mean/min/max/stdev etc over all data\n",
    "    sns.set(font_scale=1.3, rc={'axes.facecolor':'white'}, style='ticks')\n",
    "    \n",
    "    fig, ax = plt.subplots(nrows=1, ncols=1, figsize = (10,7))\n",
    "\n",
    "\n",
    "    ds[var_name].plot(x='lon',y='lat',ax=ax,vmin=vmin,vmax=vmax, \\\n",
    "                                              cmap=cmap, add_colorbar=True)\n",
    "    ax.set_xlabel('')\n",
    "    ax.set_ylabel('')\n",
    "    ax.set_title('')\n",
    "    \n",
    "    \n"
   ]
  },
  {
   "cell_type": "markdown",
   "id": "automotive-torture",
   "metadata": {},
   "source": [
    "### Max, min, mean, std dev across all 20 image months\n",
    " - final paper images "
   ]
  },
  {
   "cell_type": "code",
   "execution_count": null,
   "id": "deadly-stroke",
   "metadata": {},
   "outputs": [],
   "source": [
    "%%time\n",
    "# sum of number of days where the water level is above 0 cm \n",
    "sum_0 = wl_final.where(wl_final['water_level']>0).count(dim='time', keep_attrs=True)"
   ]
  },
  {
   "cell_type": "code",
   "execution_count": null,
   "id": "elegant-county",
   "metadata": {},
   "outputs": [],
   "source": [
    "sum_0.to_netcdf(ALOS_OUT + 'sum_0.nc')"
   ]
  },
  {
   "cell_type": "code",
   "execution_count": null,
   "id": "amended-means",
   "metadata": {},
   "outputs": [],
   "source": [
    "%%time\n",
    "# sum of number of days where the water level is above -5 cm \n",
    "sum_5 = wl_final.where(wl_final['water_level']>-5).count(dim='time', keep_attrs=True)"
   ]
  },
  {
   "cell_type": "code",
   "execution_count": null,
   "id": "alike-experience",
   "metadata": {},
   "outputs": [],
   "source": [
    "sum_5.to_netcdf(ALOS_OUT + 'sum_5.nc')"
   ]
  },
  {
   "cell_type": "code",
   "execution_count": null,
   "id": "related-deposit",
   "metadata": {},
   "outputs": [],
   "source": [
    "## Quickstart option if above code was previously run\n",
    "sum_0 = xr.open_dataset(ALOS_OUT + 'sum_0.nc')\n",
    "sum_5 = xr.open_dataset(ALOS_OUT + 'sum_5.nc')"
   ]
  },
  {
   "cell_type": "code",
   "execution_count": null,
   "id": "extreme-monroe",
   "metadata": {},
   "outputs": [],
   "source": [
    "sum_0 = sum_0.where(lt_map['type'].isin([4,5])).drop('band')\n",
    "sum_5 = sum_5.where(lt_map['type'].isin([4,5])).drop('band')"
   ]
  },
  {
   "cell_type": "markdown",
   "id": "ca494939-85b8-4182-97b0-ab674a427b2f",
   "metadata": {},
   "source": [
    "### calculating the percentage of days that the water level is above the peat surface"
   ]
  },
  {
   "cell_type": "code",
   "execution_count": null,
   "id": "f4a31395-3323-46a1-a05b-aebf66a5274b",
   "metadata": {},
   "outputs": [],
   "source": [
    "# -8db is the minimum backscatter over peat pixels\n",
    "ds0 = sum_0.where(HH_db_100m['db'][0]>-8)\n",
    "\n",
    "# Calculating the percentage of days with the water level above 0 cm for palm and hardwood swamp seperately - 560 days in current time series\n",
    "ds0['water_level'] = ds0['water_level']*100/560\n",
    "sum_0_4 = ds0['water_level'].copy().where(lt_map['type'].isin([4])).to_dataset(name = 'palm swamp').drop('band')\n",
    "sum_0_5 = ds0['water_level'].copy().where(lt_map['type'].isin([5])).to_dataset(name = 'hardwood swamp').drop('band')\n",
    "\n",
    "ps_df = sum_0_4.to_dataframe().reset_index(drop=True)\n",
    "hws_df = sum_0_5.to_dataframe().reset_index(drop=True)\n",
    "peat_df = pd.concat([ps_df, hws_df]).melt(value_vars = ['palm swamp', 'hardwood swamp'])\n"
   ]
  },
  {
   "cell_type": "code",
   "execution_count": null,
   "id": "temporal-bankruptcy",
   "metadata": {},
   "outputs": [],
   "source": [
    "var_name = '% of days with water level above -5cm (below ground)'\n",
    "ds5 = sum_5.where(HH_db_100m['db'][0]>-8)\n",
    "\n",
    "# masking for pixels with below 3 % of days\n",
    "ds5 = ds5.where(ds5['water_level']>3)\n",
    "ds5[var_name] = ds5['water_level']*100/560\n",
    "plot_maps_overall(ds5, var_name,60, 100,'viridis_r')"
   ]
  },
  {
   "cell_type": "code",
   "execution_count": null,
   "id": "expanded-companion",
   "metadata": {},
   "outputs": [],
   "source": [
    "var_name = '% of days with water level above the peat surface'\n",
    "ds0 = sum_0.where(HH_db_100m['db'][0]>-8)\n",
    "ds0 = ds0.where(ds0['water_level']>3)\n",
    "ds0[var_name] = ds0['water_level']*100/560\n",
    "plot_maps_overall(ds0, var_name,0, 100,'viridis_r')\n",
    "plt.savefig(images + 'WL0_days.png')"
   ]
  },
  {
   "cell_type": "code",
   "execution_count": null,
   "id": "comprehensive-garage",
   "metadata": {},
   "outputs": [],
   "source": [
    "ds100 = ds0.where(ds0['% of days with water level above the peat surface']==100)\n",
    "plot_maps_overall(ds100, var_name,0, 100,'viridis_r')"
   ]
  },
  {
   "cell_type": "markdown",
   "id": "organized-camel",
   "metadata": {},
   "source": [
    "### QUICKSTART"
   ]
  },
  {
   "cell_type": "code",
   "execution_count": null,
   "id": "analyzed-telephone",
   "metadata": {},
   "outputs": [],
   "source": [
    "WL_mean = xr.open_dataset(ALOS_OUT + 'WL_mean.nc')\n",
    "WL_min = xr.open_dataset(ALOS_OUT + 'WL_min.nc')\n",
    "WL_max = xr.open_dataset(ALOS_OUT + 'WL_max.nc')\n",
    "WL_stdev = xr.open_dataset(ALOS_OUT + 'WL_stdev.nc')"
   ]
  },
  {
   "cell_type": "code",
   "execution_count": null,
   "id": "demographic-tomato",
   "metadata": {},
   "outputs": [],
   "source": [
    "WL_amplitude = WL_max['water_level'] - WL_min['water_level']\n",
    "var_name = 'Water level amplitude (cm)'\n",
    "ds = WL_amplitude.to_dataset(name = var_name)\n",
    "ds[var_name].plot.hist(xlim=(5,70), bins=300);\n",
    "plt.title('')\n",
    "\n",
    "# setting the y axis format to include a comma between the thousands for the count\n",
    "plt.gca().yaxis.set_major_formatter(plt.matplotlib.ticker.StrMethodFormatter('{x:,.0f}'))\n",
    "\n",
    "plt.annotate('Mean value: ' + str(np.round(WL_amplitude.mean().values,1)) + ' cm', (30,200000))\n",
    "plt.annotate('$\\pm$'+ str(np.round(WL_amplitude.std().values,1)) + ' cm to 1$\\sigma$', (30,170000))\n",
    "plt.savefig(images + 'WL_amplitude_hist.png', bbox_inches='tight')"
   ]
  },
  {
   "cell_type": "code",
   "execution_count": null,
   "id": "430cefa7-1e06-4e37-b32d-584eec4411ff",
   "metadata": {},
   "outputs": [],
   "source": [
    "# flooded pixels\n",
    "ds_f = ds.where(pw_pvals['pvalue']>=0.15)\n",
    "ds_f[var_name].plot.hist(xlim=(5,70), bins=300);\n",
    "plt.title('')\n",
    "plt.annotate('Mean value: ' + str(np.round(ds_f[var_name].mean().values,1)) + ' cm', (30,30000))\n",
    "plt.annotate('$\\pm$'+ str(np.round(ds_f[var_name].std().values,1)) + ' cm to 1$\\sigma$', (30,26000))"
   ]
  },
  {
   "cell_type": "code",
   "execution_count": null,
   "id": "597d08d5-95e2-4c3d-8730-ebf45aab0494",
   "metadata": {},
   "outputs": [],
   "source": [
    "# rainfed pixels\n",
    "ds_r = ds.where(pw_pvals['pvalue']<0.05)\n",
    "ds_r[var_name].plot.hist(xlim=(5,70), bins=300);\n",
    "plt.title('')\n",
    "plt.annotate('Mean value: ' + str(np.round(ds_r[var_name].mean().values,1)) + ' cm', (30,75000))\n",
    "plt.annotate('$\\pm$'+ str(np.round(ds_r[var_name].std().values,1)) + ' cm to 1$\\sigma$', (30,65000))"
   ]
  },
  {
   "cell_type": "code",
   "execution_count": null,
   "id": "1057d193-d4eb-4487-9e42-443cd3760b93",
   "metadata": {},
   "outputs": [],
   "source": [
    "var_name = 'Water level amplitude (cm)'\n",
    "ds = WL_amplitude.to_dataset(name = var_name)\n",
    "ds = ds.where(HH_db_100m['db'][0]>-8)\n",
    "#colors = [(0.9,0.6,0.4), (0.4,0.6,0.8)]  # Brown and Blue\n",
    "#positions = [0, 1]\n",
    "#cmap = mcolors.LinearSegmentedColormap.from_list('terrain_brown_blue', list(zip(positions, colors)))\n",
    "vmin=10\n",
    "vmax=40\n",
    "midpoint = 1 - vmax / (vmax + abs(vmin))\n",
    "print (midpoint)\n",
    "start = 0.0\n",
    "cmap_new = shiftedColorMap(matplotlib.cm.YlGnBu, start=start, midpoint= midpoint, stop=1, name='shiftedcmap')\n",
    "plot_maps_overall(ds, var_name, vmin, vmax,cmap_new)\n",
    "plt.savefig(images + 'WL_amplitude.png')"
   ]
  },
  {
   "cell_type": "code",
   "execution_count": null,
   "id": "subtle-canvas",
   "metadata": {},
   "outputs": [],
   "source": [
    "var_name = 'Mean water level (cm)'\n",
    "ds = WL_mean.to_array().to_dataset(name = var_name)\n",
    "ds = ds.where(HH_db_100m['db'][0]>-8)\n",
    "#colors = [(0.9,0.6,0.4), (0.4,0.6,0.8)]  # Brown and Blue\n",
    "#positions = [0, 1]\n",
    "#cmap = mcolors.LinearSegmentedColormap.from_list('terrain_brown_blue', list(zip(positions, colors)))\n",
    "vmin=-10\n",
    "vmax=50\n",
    "midpoint = 1 - vmax / (vmax + abs(vmin))\n",
    "print (midpoint)\n",
    "start = 0.0\n",
    "cmap_new = shiftedColorMap(matplotlib.cm.YlGnBu, start=start, midpoint= midpoint, stop=1, name='shiftedcmap')\n",
    "plot_maps_overall(ds, var_name, vmin, vmax,cmap_new)"
   ]
  },
  {
   "cell_type": "code",
   "execution_count": null,
   "id": "demographic-drama",
   "metadata": {},
   "outputs": [],
   "source": [
    "var_name = 'Mean water level (cm)'\n",
    "ds = WL_mean.to_array().to_dataset(name = var_name)\n",
    "ds = ds.where(HH_db_100m['db'][0]>-8)\n",
    "#colors = [(0.9,0.6,0.4), (0.4,0.6,0.8)]  # Brown and Blue\n",
    "#positions = [0, 1]\n",
    "#cmap = mcolors.LinearSegmentedColormap.from_list('terrain_brown_blue', list(zip(positions, colors)))\n",
    "vmin=-10\n",
    "vmax=50\n",
    "midpoint = 1 - vmax / (vmax + abs(vmin))\n",
    "print (midpoint)\n",
    "start = 0.0\n",
    "cmap_new = shiftedColorMap(matplotlib.cm.YlGnBu, start=start, midpoint= midpoint, stop=1, name='shiftedcmap')\n",
    "plot_maps_overall(ds, var_name, vmin, vmax,cmap_new)"
   ]
  },
  {
   "cell_type": "code",
   "execution_count": null,
   "id": "level-encoding",
   "metadata": {},
   "outputs": [],
   "source": [
    "var_name = 'Maximum water level (cm)'\n",
    "ds = WL_max.to_array().to_dataset(name = var_name)\n",
    "ds = ds.where(HH_db_100m['db'][0]>-8)\n",
    "#colors = [(0.9,0.6,0.4), (0.4,0.6,0.8)]  # Brown and Blue\n",
    "#positions = [0, 1]\n",
    "#cmap = mcolors.LinearSegmentedColormap.from_list('terrain_brown_blue', list(zip(positions, colors)))\n",
    "vmin=-10\n",
    "vmax=50\n",
    "midpoint = 1 - vmax / (vmax + abs(vmin))\n",
    "print (midpoint)\n",
    "start = 0.0 \n",
    "cmap_new = shiftedColorMap(matplotlib.cm.YlGnBu, start=start, midpoint= midpoint, stop=1, name='shiftedcmap')\n",
    "plot_maps_overall(ds, var_name, vmin, vmax,cmap_new)"
   ]
  },
  {
   "cell_type": "code",
   "execution_count": null,
   "id": "material-tragedy",
   "metadata": {},
   "outputs": [],
   "source": [
    "var_name = 'Minimum water level (cm)'\n",
    "ds = WL_min.to_array().to_dataset(name = var_name)\n",
    "ds = ds.where(HH_db_100m['db'][0]>-8)\n",
    "#colors = [(0.9,0.6,0.4), (0.4,0.6,0.8)]  # Brown and Blue\n",
    "#positions = [0, 1]\n",
    "#cmap = mcolors.LinearSegmentedColormap.from_list('terrain_brown_blue', list(zip(positions, colors)))\n",
    "vmin=-10\n",
    "vmax=50\n",
    "midpoint = 1 - vmax / (vmax + abs(vmin))\n",
    "print (midpoint)\n",
    "start = 0.0 \n",
    "cmap_new = shiftedColorMap(matplotlib.cm.YlGnBu, start=start, midpoint= midpoint, stop=1, name='shiftedcmap')\n",
    "plot_maps_overall(ds, var_name, vmin, vmax,cmap_new)"
   ]
  },
  {
   "cell_type": "code",
   "execution_count": null,
   "id": "elder-cherry",
   "metadata": {},
   "outputs": [],
   "source": [
    "ds = WL_stdev.to_array().to_dataset(name = 'standard deviation (cm)')\n",
    "ds = ds.where(HH_db_100m['db'][0]>-8)\n",
    "plot_maps_overall(ds, 'standard deviation (cm)', 0, 15,'RdBu_r')"
   ]
  },
  {
   "cell_type": "code",
   "execution_count": null,
   "id": "assured-dispatch",
   "metadata": {},
   "outputs": [],
   "source": [
    "var_name = 'Standard deviation of the water level (cm)'\n",
    "ds = WL_stdev.to_array().to_dataset(name = var_name)\n",
    "ds = ds.where(HH_db_100m['db'][0]>-8)\n",
    "#colors = [(0.9,0.6,0.4), (0.4,0.6,0.8)]  # Brown and Blue\n",
    "#positions = [0, 1]\n",
    "#cmap = mcolors.LinearSegmentedColormap.from_list('terrain_brown_blue', list(zip(positions, colors)))\n",
    "vmin=0\n",
    "vmax=15\n",
    "midpoint = 1 - vmax / (vmax + abs(vmin))\n",
    "print (midpoint)\n",
    "start = -1.2\n",
    "cmap_new = shiftedColorMap(matplotlib.cm.viridis, start=start, midpoint= midpoint, stop=1.2, name='shiftedcmap')\n",
    "plot_maps_overall(ds, var_name, vmin, vmax,cmap_new)"
   ]
  },
  {
   "cell_type": "code",
   "execution_count": null,
   "id": "peaceful-clinton",
   "metadata": {},
   "outputs": [],
   "source": [
    "# saving to netcdf\n",
    "WL_mean.to_netcdf(ALOS_OUT + 'WL_mean.nc')\n",
    "WL_min.to_netcdf(ALOS_OUT + 'WL_min.nc')\n",
    "WL_max.to_netcdf(ALOS_OUT + 'WL_max.nc')\n",
    "WL_stdev.to_netcdf(ALOS_OUT + 'WL_stdev.nc')"
   ]
  },
  {
   "cell_type": "markdown",
   "id": "acoustic-coverage",
   "metadata": {},
   "source": [
    "### Max, min, mean and standard deviation over each month in the water level sequence\n",
    "- final paper images (supplementary)"
   ]
  },
  {
   "cell_type": "code",
   "execution_count": null,
   "id": "strong-cambridge",
   "metadata": {},
   "outputs": [],
   "source": [
    "%%time\n",
    "# resampling to monthly\n",
    "print ('resampling mean...')\n",
    "WL_monthly_mean = wl_final['water_level'].resample(time='1M').mean()\n",
    "\n",
    "print ('resampling max...')\n",
    "WL_monthly_max = wl_final['water_level'].resample(time='1M').max()\n",
    "\n",
    "print ('resampling min...')\n",
    "WL_monthly_min = wl_final['water_level'].resample(time='1M').min()\n",
    "\n",
    "print ('resampling std dev...')\n",
    "WL_monthly_stdev = wl_final['water_level'].resample(time='1M').std()\n"
   ]
  },
  {
   "cell_type": "code",
   "execution_count": null,
   "id": "beneficial-collectible",
   "metadata": {},
   "outputs": [],
   "source": [
    "# save to netcdf\n",
    "WL_monthly_mean.to_netcdf(ALOS_OUT + 'WL_monthly_mean.nc')\n",
    "WL_monthly_min.to_netcdf(ALOS_OUT + 'WL_monthly_min.nc')\n",
    "WL_monthly_max.to_netcdf(ALOS_OUT + 'WL_monthly_max.nc')\n",
    "WL_monthly_stdev.to_netcdf(ALOS_OUT + 'WL_monthly_stdev.nc')"
   ]
  },
  {
   "cell_type": "code",
   "execution_count": null,
   "id": "clinical-above",
   "metadata": {},
   "outputs": [],
   "source": [
    "%%time\n",
    "# resampling the linear data to monthly - comparing this with the final resampled data\n",
    "# perhaps best to do this for both the linear and rainfed data, before deciding on with p-value/correlation\n",
    "# criteria to use\n",
    "print ('resampling mean...')\n",
    "WL_monthly_mean_l = ds_l['water_level'].resample(time='1M').mean()\n",
    "\n",
    "print ('resampling max...')\n",
    "WL_monthly_max_l = ds_l['water_level'].resample(time='1M').max()\n",
    "\n",
    "print ('resampling min...')\n",
    "WL_monthly_min_l = ds_l['water_level'].resample(time='1M').min()\n",
    "\n",
    "print ('resampling std dev...')\n",
    "WL_monthly_stdev_l = ds_l['water_level'].resample(time='1M').std()"
   ]
  },
  {
   "cell_type": "code",
   "execution_count": null,
   "id": "durable-puzzle",
   "metadata": {},
   "outputs": [],
   "source": [
    "%%time\n",
    "# save to netcdf\n",
    "WL_monthly_mean_l.to_netcdf(ALOS_OUT + 'WL_monthly_mean_l.nc')\n",
    "WL_monthly_min_l.to_netcdf(ALOS_OUT + 'WL_monthly_min_l.nc')\n",
    "WL_monthly_max_l.to_netcdf(ALOS_OUT + 'WL_monthly_max_l.nc')\n",
    "WL_monthly_stdev_l.to_netcdf(ALOS_OUT + 'WL_monthly_stdev_l.nc')"
   ]
  }
 ],
 "metadata": {
  "kernelspec": {
   "display_name": "congo3",
   "language": "python",
   "name": "congo3"
  },
  "language_info": {
   "codemirror_mode": {
    "name": "ipython",
    "version": 3
   },
   "file_extension": ".py",
   "mimetype": "text/x-python",
   "name": "python",
   "nbconvert_exporter": "python",
   "pygments_lexer": "ipython3",
   "version": "3.8.5"
  }
 },
 "nbformat": 4,
 "nbformat_minor": 5
}
