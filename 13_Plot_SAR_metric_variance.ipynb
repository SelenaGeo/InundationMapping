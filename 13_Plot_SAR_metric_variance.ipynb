{
 "cells": [
  {
   "cell_type": "markdown",
   "id": "pressed-simulation",
   "metadata": {},
   "source": [
    "## Plot the standard deviation across the HH, HV, HHHV and RVI polarisations/metrics\n",
    "- use to show which one has the highest variance over time, and therefore most useful for mapping wetland water level changes. \n",
    "- Figures 10 and 13 from the paper are output here"
   ]
  },
  {
   "cell_type": "code",
   "execution_count": null,
   "id": "announced-optimum",
   "metadata": {},
   "outputs": [],
   "source": [
    "import sys\n",
    "import pandas as pd\n",
    "import xarray as xr\n",
    "import numpy as np\n",
    "xr.set_options(cmap_sequential='jet')\n",
    "import matplotlib.pyplot as plt\n",
    "import warnings\n",
    "import netCDF4\n",
    "import datetime\n",
    "import plotly\n",
    "import plotly.express as px\n",
    "import plotly.graph_objects as go\n",
    "from affine import Affine\n",
    "import cartopy.crs as ccrs\n",
    "import nco\n",
    "import xesmf as xe\n",
    "from calendar import monthrange\n",
    "import pickle as pkl\n",
    "from datetime import date, datetime, timedelta\n",
    "import math\n",
    "import seaborn as sns\n",
    "from scipy import stats\n",
    "from IPython.display import display\n",
    "\n",
    "plt.rcParams['figure.dpi'] = 1000\n",
    "%xmode Minimal"
   ]
  },
  {
   "cell_type": "code",
   "execution_count": null,
   "id": "familiar-hollywood",
   "metadata": {},
   "outputs": [],
   "source": [
    "def plt_var(ds,var_name1, var_name2, title, filename,vmin,vmax):\n",
    "    sns.set(font_scale=1.2, rc={'axes.facecolor':'white'}, style='ticks')\n",
    "    ds.rename({var_name1:var_name2})[var_name2].plot(cmap ='cividis', vmin=vmin,vmax=vmax, size=4.5, aspect=1.4)\n",
    "    plt.xlabel('')\n",
    "    plt.xticks([16.5,17,17.5,18,18.5,19,19.5])\n",
    "    plt.ylabel('')\n",
    "    plt.title(title, fontsize=14)\n",
    "    plt.show()\n",
    "    plt.savefig(images + filename, bbox_inches='tight')"
   ]
  },
  {
   "cell_type": "code",
   "execution_count": null,
   "id": "welsh-congress",
   "metadata": {},
   "outputs": [],
   "source": [
    "# Define input data location here:\n",
    "#ALOS_OUT = \n",
    "\n",
    "# Location to save images to:\n",
    "#images = "
   ]
  },
  {
   "cell_type": "code",
   "execution_count": null,
   "id": "comfortable-addiction",
   "metadata": {},
   "outputs": [],
   "source": [
    "var_names = ['HH','HV','HHHV','RVI']\n",
    "\n",
    "# Reading in the SAR data polarisations\n",
    "HH = xr.open_dataset(ALOS_OUT + 'ALOS_HH_area2.nc')\n",
    "HV = xr.open_dataset(ALOS_OUT + 'ALOS_HV_area2.nc')\n",
    "HHHV = xr.open_dataset(ALOS_OUT + 'ALOS_HHHV_ratio_area2.nc')\n",
    "RVI = xr.open_dataset(ALOS_OUT + 'ALOS_RVI_area2.nc')\n",
    "\n",
    "# land type map for masking the data for peatland pixels only\n",
    "lt_map = xr.open_dataset(ALOS_OUT + 'landtype_100m.nc')\n"
   ]
  },
  {
   "cell_type": "code",
   "execution_count": null,
   "id": "exempt-polyester",
   "metadata": {},
   "outputs": [],
   "source": [
    "%%time\n",
    "# calculating the standard deviation maps over time\n",
    "\n",
    "HH_stdev = HH.std(dim='time')\n",
    "HV_stdev = HV.std(dim='time')\n",
    "HHHV_stdev = HHHV.std(dim='time')\n",
    "RVI_stdev = RVI.std(dim='time')"
   ]
  },
  {
   "cell_type": "code",
   "execution_count": null,
   "id": "academic-caribbean",
   "metadata": {},
   "outputs": [],
   "source": [
    "# masking for peatland areas only\n",
    "HH_stdev = HH_stdev.where(lt_map['type'].isin([4,5]))\n",
    "HV_stdev = HV_stdev.where(lt_map['type'].isin([4,5]))\n",
    "HHHV_stdev = HHHV_stdev.where(lt_map['type'].isin([4,5]))\n",
    "RVI_stdev = RVI_stdev.where(lt_map['type'].isin([4,5]))"
   ]
  },
  {
   "cell_type": "code",
   "execution_count": null,
   "id": "thermal-plenty",
   "metadata": {},
   "outputs": [],
   "source": [
    "plt_var(HH_stdev,'db','HH standard deviation (dB)', 'HH standard deviation','HH_stdev.png',0, 1.5)"
   ]
  },
  {
   "cell_type": "code",
   "execution_count": null,
   "id": "dental-republic",
   "metadata": {},
   "outputs": [],
   "source": [
    "plt_var(HV_stdev,'db','HV standard deviation (dB)', 'HV standard deviation','HV_stdev.png',0,1.5)"
   ]
  },
  {
   "cell_type": "code",
   "execution_count": null,
   "id": "ecological-grace",
   "metadata": {},
   "outputs": [],
   "source": [
    "plt_var(HHHV_stdev,'db','HHHV standard deviation (dB)', 'HHHV standard deviation','HHHV_stdev.png',0,1.5)"
   ]
  },
  {
   "cell_type": "code",
   "execution_count": null,
   "id": "proprietary-music",
   "metadata": {},
   "outputs": [],
   "source": [
    "HH_mean = HH_mean.where(lt_map['type'].isin([4,5]))\n",
    "HV_mean = HV_mean.where(lt_map['type'].isin([4,5]))\n",
    "HHHV_mean = HHHV_mean.where(lt_map['type'].isin([4,5]))"
   ]
  },
  {
   "cell_type": "code",
   "execution_count": null,
   "id": "understood-anaheim",
   "metadata": {},
   "outputs": [],
   "source": [
    "# masking for water\n",
    "HH_mean = HH_mean.where(HH_mean['db']>-11)"
   ]
  },
  {
   "cell_type": "code",
   "execution_count": null,
   "id": "standard-nancy",
   "metadata": {},
   "outputs": [],
   "source": [
    "# HV mean values for both hardwood (HWS) and palm swamp (PS)\n",
    "# are the two peaks due to the different vegetation types?\n",
    "# HWS has two peaks, one lower than PS. \n",
    "# PS only has one peak\n",
    "# indicative of differences in types of HWS - could these differences be used to improve the vegetation map?\n",
    "# The spread for HWS seems large\n",
    "HV_mean = HV_mean.where(HV_mean['db']>-50)\n",
    "HV_mean['db'].plot.hist(bins=300,xlim=(-16,-10));"
   ]
  },
  {
   "cell_type": "code",
   "execution_count": null,
   "id": "coupled-pendant",
   "metadata": {},
   "outputs": [],
   "source": [
    "# Palm swamp only\n",
    "HV_mean_ps = HV_mean.where(lt_map['type']==4)\n",
    "HV_mean_ps['db'].plot.hist(bins=300, xlim=(-16,-10));"
   ]
  },
  {
   "cell_type": "code",
   "execution_count": null,
   "id": "changed-investing",
   "metadata": {},
   "outputs": [],
   "source": [
    "# hardwood swamp only \n",
    "HV_mean_hws = HV_mean.where(lt_map['type']==5)\n",
    "HV_mean_hws['db'].plot.hist(bins=300, xlim=(-16,-10));"
   ]
  },
  {
   "cell_type": "code",
   "execution_count": null,
   "id": "flying-minister",
   "metadata": {},
   "outputs": [],
   "source": [
    "# HH for palm swamp\n",
    "HH_mean_ps = HH_mean.where(lt_map['type']==4)\n",
    "HH_mean_ps['db'].plot.hist(bins=300, xlim=(-8.5,-3.5));"
   ]
  },
  {
   "cell_type": "code",
   "execution_count": null,
   "id": "cathedral-bridal",
   "metadata": {},
   "outputs": [],
   "source": [
    "# HH for hardwood swamp\n",
    "HH_mean_hws = HH_mean.where(lt_map['type']==5)\n",
    "HH_mean_hws['db'].plot.hist(bins=300, xlim=(-8.5,-3.5));"
   ]
  },
  {
   "cell_type": "code",
   "execution_count": null,
   "id": "devoted-default",
   "metadata": {},
   "outputs": [],
   "source": [
    "HH_mean_all = xr.concat([HH_mean_ps,HH_mean_hws], dim='landtype').assign_coords(landtype = ['Palm swamp', 'Hardwood swamp'])\n",
    "HH_mean_all"
   ]
  },
  {
   "cell_type": "code",
   "execution_count": null,
   "id": "dental-europe",
   "metadata": {},
   "outputs": [],
   "source": [
    "df = HH_mean_all['db'].to_dataframe().reset_index()"
   ]
  },
  {
   "cell_type": "code",
   "execution_count": null,
   "id": "adverse-campus",
   "metadata": {},
   "outputs": [],
   "source": [
    "df = df.rename(columns={'landtype':'Land type','db':'HH backscatter (dB)'})\n",
    "df"
   ]
  },
  {
   "cell_type": "code",
   "execution_count": null,
   "id": "strategic-steal",
   "metadata": {},
   "outputs": [],
   "source": [
    "sns.color_palette('colorblind',2)"
   ]
  },
  {
   "cell_type": "code",
   "execution_count": null,
   "id": "remarkable-journalist",
   "metadata": {},
   "outputs": [],
   "source": [
    "%%time\n",
    "\n",
    "# a histogram plot comparing the HH backscatter between palm and hardwood swamp\n",
    "fig, ax = plt.subplots()\n",
    "sns.histplot(data=df, x='HH backscatter (dB)',hue='Land type', palette='colorblind',ax=ax)\n",
    "ax.set_xlim(-8,-3.5)\n",
    "\n",
    "# setting the y axis format to include a comma between the thousands for the count\n",
    "plt.gca().yaxis.set_major_formatter(plt.matplotlib.ticker.StrMethodFormatter('{x:,.0f}'))\n",
    "#plt.show()\n",
    "Images = '/home/s0677837/Datastore/PHD/ALOS2/Palmer_folder/Outputs/Images/'\n",
    "plt.savefig(Images + 'swamp_hh_hist.png', bbox_inches='tight')"
   ]
  },
  {
   "cell_type": "code",
   "execution_count": null,
   "id": "prompt-personal",
   "metadata": {},
   "outputs": [],
   "source": [
    "ps = df.loc[df['Land type'] == 'Palm swamp']\n",
    "hws = df.loc[df['Land type'] == 'Hardwood swamp']\n",
    "sns.distplot(ps['HH backscatter (dB)'], hist=True,rug=False)\n",
    "sns.distplot(hws['HH backscatter (dB)'], hist=True,rug=False)"
   ]
  }
 ],
 "metadata": {
  "kernelspec": {
   "display_name": "congo3",
   "language": "python",
   "name": "congo3"
  },
  "language_info": {
   "codemirror_mode": {
    "name": "ipython",
    "version": 3
   },
   "file_extension": ".py",
   "mimetype": "text/x-python",
   "name": "python",
   "nbconvert_exporter": "python",
   "pygments_lexer": "ipython3",
   "version": "3.8.5"
  }
 },
 "nbformat": 4,
 "nbformat_minor": 5
}
