{
 "cells": [
  {
   "cell_type": "markdown",
   "id": "going-librarian",
   "metadata": {},
   "source": [
    "### Code to retrieve GEE dataset to specified region and for specified resolution\n",
    "\n",
    "- used for testing the SRTM and MERIT-HYDRO data that is available on Google Earth Engine"
   ]
  },
  {
   "cell_type": "code",
   "execution_count": 5,
   "id": "vocal-depth",
   "metadata": {},
   "outputs": [
    {
     "data": {
      "text/html": [
       "<p>To authorize access needed by Earth Engine, open the following\n",
       "        URL in a web browser and follow the instructions:</p>\n",
       "        <p><a href=https://code.earthengine.google.com/client-auth?scopes=https%3A//www.googleapis.com/auth/earthengine%20https%3A//www.googleapis.com/auth/devstorage.full_control&request_id=P8tChicz53i8qY9wdZvERQX6GrumtC8F3m082QcP8T4&tc=_p6IoxrKoqYvvAKlDmri3EaZiOT0JwGsJ5NyEr_Firc&cc=rFwePQtQrftZgHH9HUljQT4Tdst8uWa8nEaTgpCOoN8>https://code.earthengine.google.com/client-auth?scopes=https%3A//www.googleapis.com/auth/earthengine%20https%3A//www.googleapis.com/auth/devstorage.full_control&request_id=P8tChicz53i8qY9wdZvERQX6GrumtC8F3m082QcP8T4&tc=_p6IoxrKoqYvvAKlDmri3EaZiOT0JwGsJ5NyEr_Firc&cc=rFwePQtQrftZgHH9HUljQT4Tdst8uWa8nEaTgpCOoN8</a></p>\n",
       "        <p>The authorization workflow will generate a code, which you should paste in the box below.</p>\n",
       "        "
      ],
      "text/plain": [
       "<IPython.core.display.HTML object>"
      ]
     },
     "metadata": {},
     "output_type": "display_data"
    },
    {
     "name": "stdout",
     "output_type": "stream",
     "text": [
      "Enter verification code: 4/1AWgavdeAxiFRjbkclQiZi1SBHW0C-spo6qwdz0Zhb3UqF-FuxwhurcfxEtg\n",
      "\n",
      "Successfully saved authorization token.\n"
     ]
    }
   ],
   "source": [
    "import xarray as xr\n",
    "\n",
    "# Earth engine imports\n",
    "import ee\n",
    "import folium\n",
    "import geehydro\n",
    "\n",
    "ee.Authenticate()\n",
    "ee.Initialize()\n"
   ]
  },
  {
   "cell_type": "code",
   "execution_count": 7,
   "id": "continued-translator",
   "metadata": {},
   "outputs": [],
   "source": [
    "# reading in an existing dataset that has the required image extents (alternatively just enter them in cell below)\n",
    "#ALOS_OUT = add_filepath\n",
    "\n",
    "pw_corrs = xr.open_dataset(ALOS_OUT + 'corrs_da_HH_new.nc')"
   ]
  },
  {
   "cell_type": "code",
   "execution_count": 8,
   "id": "quality-marble",
   "metadata": {},
   "outputs": [
    {
     "name": "stdout",
     "output_type": "stream",
     "text": [
      "-1.0906201868375438 2.768779337489291\n",
      "16.10553549932626 19.910137791321805\n"
     ]
    }
   ],
   "source": [
    "# ALOS-2 image extents\n",
    "# making the area slightly larger so that the interpolation to a lower resolution doesn't cut out the border data\n",
    "lat_min = pw_corrs.lat.min().values.item() - 0.01\n",
    "lat_max = pw_corrs.lat.max().values.item() + 0.01\n",
    "lon_min = pw_corrs.lon.min().values.item() - 0.01\n",
    "lon_max = pw_corrs.lon.max().values.item() + 0.01\n",
    "\n",
    "print (lat_min,lat_max)\n",
    "print (lon_min,lon_max)"
   ]
  },
  {
   "cell_type": "code",
   "execution_count": 17,
   "id": "facial-kingston",
   "metadata": {},
   "outputs": [],
   "source": [
    "# GEE dataset location\n",
    "image_address = 'CSP/ERGo/1_0/Global/SRTM_landforms'\n",
    "\n",
    "# bands to be retrieved\n",
    "bands = ['constant']\n",
    "\n",
    "# resolution (original, or to be interpolated to)\n",
    "resn = 90\n",
    "\n",
    "# image extents\n",
    "extents = [lon_min, lat_min, lon_max, lat_max]\n",
    "\n",
    "# description of the dataset (the filename it will be saved to)\n",
    "description = 'SRTM_landform'"
   ]
  },
  {
   "cell_type": "code",
   "execution_count": 16,
   "id": "biological-savings",
   "metadata": {},
   "outputs": [],
   "source": [
    "def retrieve_gee_data(image_address, bands, resn, extents,description):\n",
    "    # retrieve GEE data\n",
    "    bands_final = ee.Image(image_address).select(bands)\n",
    "    roi = ee.Geometry.Rectangle(extents);\n",
    "\n",
    "    # extracting the data\n",
    "    data = bands_final.reduceRegion(reducer = ee.Reducer.mean(), geometry = roi, scale = resn)\n",
    "\n",
    "    #print (data)\n",
    "\n",
    "    # downloading as a geotiff file\n",
    "    task = ee.batch.Export.image.toDrive(\\\n",
    "                                         image = bands_final,\\\n",
    "                                         description = description,\\\n",
    "                                         fileNamePrefix = description,\\\n",
    "                                         region = roi,\\\n",
    "                                         scale = resn,\\\n",
    "                                         maxPixels = 1e10\\\n",
    "                                        )\n",
    "\n",
    "    # starting the task to download the data\n",
    "    task.start()\n",
    "    \n",
    "    # monioring task status\n",
    "    print (task.status())   \n",
    "    \n",
    "    return (task)"
   ]
  },
  {
   "cell_type": "code",
   "execution_count": 18,
   "id": "affecting-documentation",
   "metadata": {},
   "outputs": [
    {
     "name": "stdout",
     "output_type": "stream",
     "text": [
      "{'state': 'READY', 'description': 'SRTM_landform', 'creation_timestamp_ms': 1673634245322, 'update_timestamp_ms': 1673634245322, 'start_timestamp_ms': 0, 'task_type': 'EXPORT_IMAGE', 'id': 'JY7GGEGQTSAN3I6NHBIRWZ4M', 'name': 'projects/earthengine-legacy/operations/JY7GGEGQTSAN3I6NHBIRWZ4M'}\n"
     ]
    }
   ],
   "source": [
    "retrieve_gee_data(image_address, bands, resn, extents, description)"
   ]
  },
  {
   "cell_type": "code",
   "execution_count": null,
   "id": "herbal-phenomenon",
   "metadata": {},
   "outputs": [],
   "source": [
    "print (task.status())"
   ]
  }
 ],
 "metadata": {
  "kernelspec": {
   "display_name": "congo3",
   "language": "python",
   "name": "congo3"
  },
  "language_info": {
   "codemirror_mode": {
    "name": "ipython",
    "version": 3
   },
   "file_extension": ".py",
   "mimetype": "text/x-python",
   "name": "python",
   "nbconvert_exporter": "python",
   "pygments_lexer": "ipython3",
   "version": "3.8.5"
  }
 },
 "nbformat": 4,
 "nbformat_minor": 5
}
